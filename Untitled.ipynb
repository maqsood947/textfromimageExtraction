{
 "cells": [
  {
   "cell_type": "code",
   "execution_count": 1,
   "id": "1dbc41f4",
   "metadata": {},
   "outputs": [
    {
     "name": "stdout",
     "output_type": "stream",
     "text": [
      "Collecting pytesseract\n",
      "  Downloading pytesseract-0.3.10-py3-none-any.whl (14 kB)\n",
      "Requirement already satisfied: Pillow in c:\\users\\qmrmq\\anaconda3\\lib\\site-packages (9.4.0)\n",
      "Requirement already satisfied: packaging>=21.3 in c:\\users\\qmrmq\\anaconda3\\lib\\site-packages (from pytesseract) (23.1)\n",
      "Installing collected packages: pytesseract\n",
      "Successfully installed pytesseract-0.3.10\n"
     ]
    }
   ],
   "source": [
    "!pip install pytesseract Pillow"
   ]
  },
  {
   "cell_type": "code",
   "execution_count": 9,
   "id": "0830bb5e",
   "metadata": {},
   "outputs": [],
   "source": [
    "from PIL import Image\n",
    "import pytesseract"
   ]
  },
  {
   "cell_type": "code",
   "execution_count": 10,
   "id": "48e59f72",
   "metadata": {},
   "outputs": [],
   "source": [
    "pytesseract.pytesseract.tesseract_cmd = r'C:\\Program Files\\Tesseract-OCR\\tesseract.exe'"
   ]
  },
  {
   "cell_type": "code",
   "execution_count": 11,
   "id": "c9a7e293",
   "metadata": {},
   "outputs": [],
   "source": [
    "image_path = 'C:/Users/qmrmq/Downloads/tesxt.jpg'\n",
    "image = Image.open(image_path)"
   ]
  },
  {
   "cell_type": "code",
   "execution_count": 12,
   "id": "7bf8bd2e",
   "metadata": {},
   "outputs": [
    {
     "name": "stdout",
     "output_type": "stream",
     "text": [
      "Extracted Text:\n",
      "Dear students,\n",
      "\n",
      "Time is running out! The Higher Education Commission (HEC) in collaboration witl\n",
      "Software Export Board (PSEB), Pakistan IT Industry Association (P@SHA) and Nat\n",
      "for the students of 7th and 8th Semester of CS & Related Disciplines through Virtu\n",
      "placement of talented IT students in IT industry to acquire hands-on experience on lat\n",
      "\n",
      "The Last Date for Registration: January 03, 2024\n",
      "\n",
      "Attention! Today is the LAST DAY for registration. If you haven't already, ensure 5\n",
      "promising future in the IT industry.\n",
      "\n"
     ]
    }
   ],
   "source": [
    "text = pytesseract.image_to_string(image)\n",
    "print(\"Extracted Text:\")\n",
    "print(text)"
   ]
  },
  {
   "cell_type": "code",
   "execution_count": null,
   "id": "b92c469a",
   "metadata": {},
   "outputs": [],
   "source": []
  }
 ],
 "metadata": {
  "kernelspec": {
   "display_name": "Python 3 (ipykernel)",
   "language": "python",
   "name": "python3"
  },
  "language_info": {
   "codemirror_mode": {
    "name": "ipython",
    "version": 3
   },
   "file_extension": ".py",
   "mimetype": "text/x-python",
   "name": "python",
   "nbconvert_exporter": "python",
   "pygments_lexer": "ipython3",
   "version": "3.11.5"
  }
 },
 "nbformat": 4,
 "nbformat_minor": 5
}
